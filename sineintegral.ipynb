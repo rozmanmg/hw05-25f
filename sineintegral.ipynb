{
 "cells": [
  {
   "cell_type": "markdown",
   "id": "37e14402-f646-4580-8f13-1bf2364020da",
   "metadata": {},
   "source": [
    "\n",
    "# Sine integral"
   ]
  },
  {
   "cell_type": "markdown",
   "id": "0ce18bd8-f2ed-436d-87da-6525b2dc15fc",
   "metadata": {},
   "source": [
    "Sine integral is defined as\n",
    "\n",
    "$$\n",
    "Si(x) = \\int_0^x \\frac{\\sin(t)}{t} \\, \\mathrm{d}t. \\tag{1}\n",
    "$$"
   ]
  },
  {
   "cell_type": "markdown",
   "id": "2a5d64ae-45a7-4e33-af98-52d7d2d0cc55",
   "metadata": {},
   "source": [
    "\n",
    "Write a function, `mysinint(x)` that implements the sine\n",
    "integral. Your `mysinint(x)` must in turn call a Simpson's\n",
    "quadrature.  Use the code for Simpson's quadrature that you wrote\n",
    "for HW3. Plot the graph of `mysinint(x)` for\n",
    "$1 \\le x \\le 3\\pi$ using 100 data points. Use 101 points for\n",
    "Simpson's integration. Be careful to avoid the division by zero in\n",
    "the integrand od `mysinint(x)`."
   ]
  },
  {
   "cell_type": "markdown",
   "id": "04aede3d-c29d-4243-b8c9-c1f495abbfb5",
   "metadata": {},
   "source": [
    "\n",
    "Your code for Simpson's integrator:"
   ]
  },
  {
   "cell_type": "code",
   "execution_count": null,
   "id": "d494a7b9-9ae6-4ccb-aaa8-3c48bccc67eb",
   "metadata": {},
   "outputs": [],
   "source": [
    "\n",
    "\"\"\"\n",
    "    res = mysimpsons(fun, a, b, n)\n",
    "\n",
    "Use Simpson's quadrature to evaluate the numerical value of the integral of a function \n",
    "of a single variable, `fun`, between the integration limits `a` and `b`, using `n` nodes.\n",
    "\"\"\"\n",
    "function mysimpsons(fun, a, b, n)\n",
    "    # your code here\n",
    "end"
   ]
  },
  {
   "cell_type": "markdown",
   "id": "0b8b8915-c5a3-480a-9a96-dee6e0daf0bd",
   "metadata": {},
   "source": [
    "\n",
    "Ready-to-use code for sine integral:"
   ]
  },
  {
   "cell_type": "code",
   "execution_count": null,
   "id": "c4eb9282-e939-4a41-b0a3-7bccadc18fbd",
   "metadata": {},
   "outputs": [],
   "source": [
    "\n",
    "mysinint(x) = mysimpsons(integrand, 0.0, x, 101)"
   ]
  },
  {
   "cell_type": "markdown",
   "id": "97d704a3-ebb1-4099-8c7e-6d0fb022b99b",
   "metadata": {},
   "source": [
    "\n",
    "Your code for the integrand in Eq. 1:"
   ]
  },
  {
   "cell_type": "code",
   "execution_count": null,
   "id": "5e811bce-3194-4fe0-9b81-b5508ce644c0",
   "metadata": {},
   "outputs": [],
   "source": [
    "\n",
    "# Avoid division by 0!\n",
    "function integrand(x)\n",
    "    # your code here\n",
    "end"
   ]
  },
  {
   "cell_type": "markdown",
   "id": "43aa20eb-da77-4854-956e-2ac9c74d63e8",
   "metadata": {},
   "source": [
    "### Plotting:"
   ]
  },
  {
   "cell_type": "code",
   "execution_count": null,
   "id": "ba7a0a61-a1ec-4a35-972c-b14ac6c42e05",
   "metadata": {},
   "outputs": [],
   "source": [
    "\n",
    "using PyPlot"
   ]
  },
  {
   "cell_type": "code",
   "execution_count": null,
   "id": "bd8d957e-c970-4f7f-9a0a-d3f124a4fcec",
   "metadata": {},
   "outputs": [],
   "source": [
    "\n",
    "x = range(1, 3*pi, 100)"
   ]
  },
  {
   "cell_type": "code",
   "execution_count": null,
   "id": "3f698d51-7669-4a1f-8d99-2817bceeda46",
   "metadata": {},
   "outputs": [],
   "source": [
    "\n",
    "plot(x, mysinint.(x))\n",
    "\n",
    "# add a title, axes labels, grid"
   ]
  },
  {
   "cell_type": "code",
   "execution_count": null,
   "id": "65d5e97f-883b-4a01-9709-31eb6068d596",
   "metadata": {},
   "outputs": [],
   "source": []
  }
 ],
 "metadata": {
  "kernelspec": {
   "display_name": "Julia 1.11.6",
   "language": "julia",
   "name": "julia-1.11"
  },
  "language_info": {
   "file_extension": ".jl",
   "mimetype": "application/julia",
   "name": "julia",
   "version": "1.11.6"
  }
 },
 "nbformat": 4,
 "nbformat_minor": 5
}
