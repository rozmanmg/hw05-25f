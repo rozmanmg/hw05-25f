{
 "cells": [
  {
   "cell_type": "markdown",
   "metadata": {},
   "source": [
    "# Runge-Kutta midpoint method for ODEs"
   ]
  },
  {
   "cell_type": "markdown",
   "metadata": {},
   "source": [
    "We are interested in the numerical solution of the initial value problem (IVP) for an ordinary differential equation:\n",
    "\n",
    "$$\\frac{\\mathrm{d}y}{\\mathrm{d}t} = f(t, y), \\quad a \\le t \\le b, \\quad y(a) = y_1.$$\n",
    "\n",
    "We denote the value of independent variable by $t_{i+1}$, $i = 1, 2, \\ldots$, $t_1 = a$; the computed\n",
    "solution at $t = t_i$ by $y_{i}$,\n",
    "\n",
    "$$y_{i} \\equiv y(t_{i}) , \\quad i = 2, \\ldots, n;$$\n",
    "\n",
    "the value of the right hand side of the differential equation at $t_i$ by $f_{i}$:\n",
    "\n",
    "$$f_{i} \\equiv f(t_{i}, y_{i}), \\quad i = 1, \\ldots, n .$$\n",
    "\n",
    "The step size $h$ (assumed to be a constant for the sake of simplicity) is:\n",
    "    \n",
    "$$h = t_i - t_{i-1} = \\frac{b - a}{n - 1} .$$"
   ]
  },
  {
   "cell_type": "markdown",
   "metadata": {},
   "source": [
    "\n",
    "Out starting point is Euler's quadrature formula:\n",
    "\n",
    "$$y_{j+1} = \\mathrm{Euler}_h(t_j + h) = y_j + h f_j +  \\alpha \\frac{h^2}{2} + O(h^3),$$\n",
    "\n",
    "where $\\alpha$ is an unknown constant. As we see from the equation,\n",
    "the leading term of the local truncation error is quadratic in $h$."
   ]
  },
  {
   "cell_type": "markdown",
   "metadata": {},
   "source": [
    "Let's use Richardson extrapolation to construct a\n",
    "an integrator with a smaller truncation error than the one of the Euler's method.\n",
    "\n",
    "The local error of Euler's method of the step $h$ is\n",
    "\n",
    "$$y_{exact}(t + h) - \\mathrm{Euler}_h(t + h)  =  \\alpha \\frac{h^2}{2}.$$\n",
    "\n",
    "The local error of Euler's method of two steps of $h/2$ is twice as small:\n",
    "\n",
    "$$y_{exact}(t + h) - \\mathrm{Euler}_{h/2}(t + h)  =  2 \\alpha \\frac{(h/2)^2}{2}\n",
    "  = \\alpha \\frac{h^2}{4}.$$  \n",
    "\n",
    "Combining the last two equations, we can eliminate\n",
    "the error term, obtaining\n",
    "\n",
    "$$y_{exact}(t + h) - 2 \\mathrm{Euler}_{h/2}(t + h) + \\mathrm{Euler}_h(t + h) = O(h^3) .$$\n",
    "\n",
    "Therefore the integration method\n",
    "\n",
    "$$y(t+h) = 2 \\mathrm{Euler}_{h/2}(t + h) - \\mathrm{Euler}_h(t + h)$$ \n",
    "\n",
    "has the local truncation error $O(h^3)$.\n",
    "\n",
    "Explicitly,\n",
    "\n",
    "$$y_{j + 1} = y_j + h \\, f(t_j, y_j),$$\n",
    "\n",
    "$$y_{j + 1/2} = y_j + \\frac{h}{2} \\, f(t_j, y_j),$$\n",
    "\n",
    "$$y_{j + 1/2 + 1/2} = y_{j+1/2} + \\frac{h}{2} \\, f(t_{j+ 1/2}, y_{j +1/2}) = y_j + \\frac{h}{2} \\, f(t_j, y_j) + \\frac{h}{2} \\, f\\left(t_j + h/2, y_j +\n",
    "        \\frac{h}{2} \\, f(t_j, y_j)\\right)$$"
   ]
  },
  {
   "cell_type": "markdown",
   "metadata": {},
   "source": [
    "\n",
    "Finally,\n",
    "\n",
    "$$y_{j+1} = 2 y_{j + 1/2 + 1/2} - y_{j + 1} = y_j + h f(t_j + h/2, y_j + h/2 \\, f_j) .$$\n",
    "\n",
    "or\n",
    "\n",
    "$$k_1 = h f(t_j, y_j),$$\n",
    "$$k_2 = h f(t_j + \\frac{h}{2}, y_j + \\frac{k_1}{2}),$$\n",
    "$$y_{j+1} = y_j + k_2 .$$\n",
    "\n",
    "The method that we obtained is called Runge-Kutta *midpoint method*."
   ]
  },
  {
   "cell_type": "code",
   "execution_count": null,
   "metadata": {},
   "outputs": [],
   "source": [
    "\n",
    "using PyPlot"
   ]
  },
  {
   "cell_type": "code",
   "execution_count": null,
   "metadata": {},
   "outputs": [],
   "source": [
    "\n",
    "\"\"\"\n",
    "    t, y = myrkmid(fun, a, b, n, y0)\n",
    "\n",
    "Solve IVP y' = fun(t, y), a <= t <= b, y(a) = y0 using midpoint method.\n",
    "Use the integration step h = (b - a)/(n - 1). Return a vector of values \n",
    "of the independent variable, t_i, and a vector of correspondinig values \n",
    "of the solution, y(t_i).\n",
    "\"\"\"\n",
    "function myrkmid(fun, a, b, n, y0)\n",
    "    # your code here\n",
    "end"
   ]
  },
  {
   "cell_type": "code",
   "execution_count": null,
   "metadata": {},
   "outputs": [],
   "source": [
    "\n",
    "a = 0.0\n",
    "b = 5.0\n",
    "fun(t, y) = y\n",
    "y1 = 1.0;"
   ]
  },
  {
   "cell_type": "code",
   "execution_count": null,
   "metadata": {},
   "outputs": [],
   "source": [
    "\n",
    "n = 16\n",
    "t, y = myrkmid(fun, a, b, n, y1)"
   ]
  },
  {
   "cell_type": "code",
   "execution_count": null,
   "metadata": {},
   "outputs": [],
   "source": [
    "# Your code for plot of the solution goes here"
   ]
  },
  {
   "cell_type": "code",
   "execution_count": null,
   "metadata": {},
   "outputs": [],
   "source": [
    "ndp = 9\n",
    "err = zeros(ndp)\n",
    "hs = zeros(ndp)\n",
    "yexact = exp(b)"
   ]
  },
  {
   "cell_type": "code",
   "execution_count": null,
   "metadata": {},
   "outputs": [],
   "source": [
    "# Your code for calculating the global error vs h"
   ]
  },
  {
   "cell_type": "code",
   "execution_count": null,
   "metadata": {},
   "outputs": [],
   "source": [
    "# Your code for plot of err(hs)"
   ]
  },
  {
   "cell_type": "markdown",
   "metadata": {},
   "source": [
    "Your description of the results and your reasoning goes in this markdown cell below:"
   ]
  },
  {
   "cell_type": "markdown",
   "metadata": {},
   "source": [
    "..."
   ]
  },
  {
   "cell_type": "code",
   "execution_count": null,
   "metadata": {},
   "outputs": [],
   "source": []
  }
 ],
 "metadata": {
  "kernelspec": {
   "display_name": "Julia 1.11.6",
   "language": "julia",
   "name": "julia-1.11"
  },
  "language_info": {
   "file_extension": ".jl",
   "mimetype": "application/julia",
   "name": "julia",
   "version": "1.11.6"
  }
 },
 "nbformat": 4,
 "nbformat_minor": 4
}
